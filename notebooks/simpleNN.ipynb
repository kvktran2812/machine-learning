{
 "cells": [
  {
   "cell_type": "markdown",
   "id": "031cd0d7-23d9-47a7-8a0f-52dda560c46a",
   "metadata": {},
   "source": [
    "# Simple Neural Network\n",
    "### Import libraries"
   ]
  },
  {
   "cell_type": "code",
   "execution_count": 7,
   "id": "22fe6511-3fbe-44ef-a928-58d79d2f8b80",
   "metadata": {},
   "outputs": [],
   "source": [
    "import numpy as np\n",
    "import pandas as pd\n",
    "import tensorflow as tf\n",
    "import matplotlib.pyplot as plt"
   ]
  },
  {
   "cell_type": "markdown",
   "id": "e5160057-962d-4db8-a322-d973e14b6874",
   "metadata": {},
   "source": [
    "### Simple explanation"
   ]
  },
  {
   "cell_type": "code",
   "execution_count": null,
   "id": "22b92f0c-40dd-42f9-b66a-bdc280a5544b",
   "metadata": {},
   "outputs": [],
   "source": []
  },
  {
   "cell_type": "code",
   "execution_count": null,
   "id": "490eac8b-ceac-4249-9817-7ab6bf1adc16",
   "metadata": {},
   "outputs": [],
   "source": []
  },
  {
   "cell_type": "code",
   "execution_count": null,
   "id": "9fc55dfe-e293-444b-b0cb-15d63f607a05",
   "metadata": {},
   "outputs": [],
   "source": []
  },
  {
   "cell_type": "markdown",
   "id": "d73314d8-bdad-4b2a-8adc-bc4cf4593ddc",
   "metadata": {},
   "source": [
    "### Load data\n",
    "\n",
    "- In this example, we will load data from the famous MNIST dataset. The dataset consists of images of handwritten numerical data.\n",
    "- The image is represented as a 28x28 matrix of value between 0 to 255. \n",
    "- Below is the code to load the data. "
   ]
  },
  {
   "cell_type": "code",
   "execution_count": 21,
   "id": "39eed304-3738-4a33-a3a3-6f0f83ede8fd",
   "metadata": {},
   "outputs": [],
   "source": [
    "mnist = tf.keras.datasets.mnist\n",
    "\n",
    "(x_train, y_train), (x_test, y_test) = mnist.load_data()\n",
    "x_train, x_test = x_train / 255, x_test / 255"
   ]
  },
  {
   "cell_type": "markdown",
   "id": "cdfdd49c-aedd-4f89-aa57-019da9050cff",
   "metadata": {},
   "source": [
    "#### Here is a sample image from the data"
   ]
  },
  {
   "cell_type": "code",
   "execution_count": 22,
   "id": "36c3830c-34c4-4e0f-88bc-20f4dc59dc8f",
   "metadata": {},
   "outputs": [
    {
     "name": "stdout",
     "output_type": "stream",
     "text": [
      "This is the image for number: 5 \n",
      "\n"
     ]
    },
    {
     "data": {
      "image/png": "[encoded data removed]",
      "text/plain": [
       "<Figure size 640x480 with 1 Axes>"
      ]
     },
     "metadata": {},
     "output_type": "display_data"
    }
   ],
   "source": [
    "print(f\"This is the image for number: {y_train[0]} \\n\")\n",
    "plt.imshow(x_train[0])\n",
    "plt.show()"
   ]
  },
  {
   "cell_type": "markdown",
   "id": "49393738-6b68-444e-82e5-533b838a584d",
   "metadata": {},
   "source": [
    "### Build the model\n",
    "\n",
    "- Our model is a simple neural network model that have one densely connected layer of 64 nodes.\n",
    "- One output layer with 10 nodes represent the prediction of number from 0 to 9\n",
    "- The flattten layer at the beginning is just a reprocessing layer that transform a 28x28 matrix to a 1-dimension vector."
   ]
  },
  {
   "cell_type": "code",
   "execution_count": 18,
   "id": "6acb2745-ae20-4ad7-af81-ddce93feea2d",
   "metadata": {},
   "outputs": [
    {
     "data": {
      "image/png": "[encoded data removed]",
      "text/plain": [
       "<IPython.core.display.Image object>"
      ]
     },
     "execution_count": 18,
     "metadata": {},
     "output_type": "execute_result"
    }
   ],
   "source": [
    "model = tf.keras.Sequential([\n",
    "    tf.keras.layers.Flatten(input_shape=x_train[0].shape),\n",
    "    tf.keras.layers.Dense(64, activation='relu'),\n",
    "    tf.keras.layers.Dense(10),\n",
    "])\n",
    "\n",
    "tf.keras.utils.plot_model(model)"
   ]
  },
  {
   "cell_type": "markdown",
   "id": "0d8cda3c-bc8f-4b73-895f-8e40e13b369f",
   "metadata": {},
   "source": [
    "### Running the model\n",
    "\n",
    "#### Loss function, optimizer and metrics"
   ]
  },
  {
   "cell_type": "code",
   "execution_count": 23,
   "id": "a09527b6-7b93-4587-8128-c034897493b0",
   "metadata": {},
   "outputs": [],
   "source": [
    "loss_fn = tf.keras.losses.SparseCategoricalCrossentropy(from_logits=True)"
   ]
  },
  {
   "cell_type": "code",
   "execution_count": 24,
   "id": "c4a6de1f-089a-49aa-9cac-bbcc6f402408",
   "metadata": {},
   "outputs": [
    {
     "name": "stdout",
     "output_type": "stream",
     "text": [
      "WARNING:tensorflow:From C:\\Users\\tkvkh\\AppData\\Local\\Programs\\Python\\Python311\\Lib\\site-packages\\keras\\src\\optimizers\\__init__.py:309: The name tf.train.Optimizer is deprecated. Please use tf.compat.v1.train.Optimizer instead.\n",
      "\n"
     ]
    }
   ],
   "source": [
    "model.compile(optimizer='adam', loss=loss_fn, metrics=['accuracy'])"
   ]
  },
  {
   "cell_type": "markdown",
   "id": "e1b34440-18a1-4d87-9b4a-60a809b5af5e",
   "metadata": {},
   "source": [
    "#### Fit the model"
   ]
  },
  {
   "cell_type": "code",
   "execution_count": 25,
   "id": "4102943c-508a-478f-83b4-3471d7674ac0",
   "metadata": {},
   "outputs": [
    {
     "name": "stdout",
     "output_type": "stream",
     "text": [
      "Epoch 1/5\n",
      "WARNING:tensorflow:From C:\\Users\\tkvkh\\AppData\\Local\\Programs\\Python\\Python311\\Lib\\site-packages\\keras\\src\\utils\\tf_utils.py:492: The name tf.ragged.RaggedTensorValue is deprecated. Please use tf.compat.v1.ragged.RaggedTensorValue instead.\n",
      "\n",
      "WARNING:tensorflow:From C:\\Users\\tkvkh\\AppData\\Local\\Programs\\Python\\Python311\\Lib\\site-packages\\keras\\src\\engine\\base_layer_utils.py:384: The name tf.executing_eagerly_outside_functions is deprecated. Please use tf.compat.v1.executing_eagerly_outside_functions instead.\n",
      "\n",
      "1875/1875 [==============================] - 3s 1ms/step - loss: 0.2984 - accuracy: 0.9166\n",
      "Epoch 2/5\n",
      "1875/1875 [==============================] - 3s 1ms/step - loss: 0.1406 - accuracy: 0.9590\n",
      "Epoch 3/5\n",
      "1875/1875 [==============================] - 3s 1ms/step - loss: 0.1032 - accuracy: 0.9701\n",
      "Epoch 4/5\n",
      "1875/1875 [==============================] - 3s 1ms/step - loss: 0.0816 - accuracy: 0.9754\n",
      "Epoch 5/5\n",
      "1875/1875 [==============================] - 3s 1ms/step - loss: 0.0668 - accuracy: 0.9791\n"
     ]
    },
    {
     "data": {
      "text/plain": [
       "<keras.src.callbacks.History at 0x20afa469910>"
      ]
     },
     "execution_count": 25,
     "metadata": {},
     "output_type": "execute_result"
    }
   ],
   "source": [
    "model.fit(x_train, y_train, epochs=5)"
   ]
  },
  {
   "cell_type": "markdown",
   "id": "70b481e2-8d89-40c6-a44a-fd790a012a17",
   "metadata": {},
   "source": [
    "#### Evaluate the model"
   ]
  },
  {
   "cell_type": "code",
   "execution_count": 26,
   "id": "2f187cfb-326c-4a3e-89cf-7d5e3900e9b4",
   "metadata": {},
   "outputs": [
    {
     "name": "stdout",
     "output_type": "stream",
     "text": [
      "313/313 - 0s - loss: 0.0878 - accuracy: 0.9740 - 494ms/epoch - 2ms/step\n"
     ]
    },
    {
     "data": {
      "text/plain": [
       "[0.08778861910104752, 0.9739999771118164]"
      ]
     },
     "execution_count": 26,
     "metadata": {},
     "output_type": "execute_result"
    }
   ],
   "source": [
    "model.evaluate(x_test,  y_test, verbose=2)"
   ]
  },
  {
   "cell_type": "markdown",
   "id": "dbd26f64-f303-4b20-9a5f-842e4f8d295a",
   "metadata": {},
   "source": [
    "### Example and visualization of predictions"
   ]
  },
  {
   "cell_type": "code",
   "execution_count": null,
   "id": "5530ec67-489d-4736-953e-07769401d0af",
   "metadata": {},
   "outputs": [],
   "source": []
  }
 ],
 "metadata": {
  "kernelspec": {
   "display_name": "Python 3 (ipykernel)",
   "language": "python",
   "name": "python3"
  },
  "language_info": {
   "codemirror_mode": {
    "name": "ipython",
    "version": 3
   },
   "file_extension": ".py",
   "mimetype": "text/x-python",
   "name": "python",
   "nbconvert_exporter": "python",
   "pygments_lexer": "ipython3",
   "version": "3.11.7"
  }
 },
 "nbformat": 4,
 "nbformat_minor": 5
}
