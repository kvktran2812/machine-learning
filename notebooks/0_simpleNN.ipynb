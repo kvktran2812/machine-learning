{
 "cells": [
  {
   "cell_type": "markdown",
   "id": "031cd0d7-23d9-47a7-8a0f-52dda560c46a",
   "metadata": {},
   "source": [
    "# Simple Neural Network\n",
    "### Import libraries"
   ]
  },
  {
   "cell_type": "code",
   "execution_count": 1,
   "id": "22fe6511-3fbe-44ef-a928-58d79d2f8b80",
   "metadata": {},
   "outputs": [
    {
     "name": "stdout",
     "output_type": "stream",
     "text": [
      "WARNING:tensorflow:From C:\\Users\\tkvkh\\AppData\\Local\\Programs\\Python\\Python311\\Lib\\site-packages\\keras\\src\\losses.py:2976: The name tf.losses.sparse_softmax_cross_entropy is deprecated. Please use tf.compat.v1.losses.sparse_softmax_cross_entropy instead.\n",
      "\n"
     ]
    }
   ],
   "source": [
    "import numpy as np\n",
    "import pandas as pd\n",
    "import tensorflow as tf\n",
    "import matplotlib.pyplot as plt"
   ]
  },
  {
   "cell_type": "markdown",
   "id": "e5160057-962d-4db8-a322-d973e14b6874",
   "metadata": {},
   "source": [
    "### Simple explanation"
   ]
  },
  {
   "cell_type": "markdown",
   "id": "9f2b1b7d-2b54-4d95-8690-eecde58714d0",
   "metadata": {},
   "source": [
    "- A simple neural network consists of layers neurons or nodes that is densely connected. Computation of a neuron is `y = w * x + b`\n",
    "- After the linear computation, the result will be feed to an activation function. In this example, we use ReLU, so the computation is y = max(0, x)\n",
    "- The learning algorithm, we will use is Adam with loss function is sparse categorical cross entropy"
   ]
  },
  {
   "cell_type": "markdown",
   "id": "d73314d8-bdad-4b2a-8adc-bc4cf4593ddc",
   "metadata": {},
   "source": [
    "### Load data\n",
    "\n",
    "- In this example, we will load data from the famous MNIST dataset. The dataset consists of images of handwritten numerical data.\n",
    "- The image is represented as a 28x28 matrix of value between 0 to 255. \n",
    "- Below is the code to load the data. "
   ]
  },
  {
   "cell_type": "code",
   "execution_count": 2,
   "id": "39eed304-3738-4a33-a3a3-6f0f83ede8fd",
   "metadata": {},
   "outputs": [],
   "source": [
    "mnist = tf.keras.datasets.mnist\n",
    "\n",
    "(x_train, y_train), (x_test, y_test) = mnist.load_data()\n",
    "x_train, x_test = x_train.astype(\"float\") / 255, x_test.astype(\"float\") / 255"
   ]
  },
  {
   "cell_type": "markdown",
   "id": "cdfdd49c-aedd-4f89-aa57-019da9050cff",
   "metadata": {},
   "source": [
    "#### Here is a sample image from the data"
   ]
  },
  {
   "cell_type": "code",
   "execution_count": 3,
   "id": "36c3830c-34c4-4e0f-88bc-20f4dc59dc8f",
   "metadata": {},
   "outputs": [
    {
     "name": "stdout",
     "output_type": "stream",
     "text": [
      "This is the image for number: 5 \n",
      "\n"
     ]
    },
    {
     "data": {
      "image/png": "[encoded data removed]",
      "text/plain": [
       "<Figure size 640x480 with 1 Axes>"
      ]
     },
     "metadata": {},
     "output_type": "display_data"
    }
   ],
   "source": [
    "print(f\"This is the image for number: {y_train[0]} \\n\")\n",
    "plt.imshow(x_train[0])\n",
    "plt.show()"
   ]
  },
  {
   "cell_type": "markdown",
   "id": "49393738-6b68-444e-82e5-533b838a584d",
   "metadata": {},
   "source": [
    "### Build the model\n",
    "\n",
    "- Our model is a simple neural network model that have one densely connected layer of 64 nodes.\n",
    "- One output layer with 10 nodes represent the prediction of number from 0 to 9\n",
    "- The flattten layer at the beginning is just a reprocessing layer that transform a 28x28 (28, 28) matrix to a 1-dimension vector of (786, 1)."
   ]
  },
  {
   "cell_type": "code",
   "execution_count": 4,
   "id": "6acb2745-ae20-4ad7-af81-ddce93feea2d",
   "metadata": {},
   "outputs": [
    {
     "name": "stdout",
     "output_type": "stream",
     "text": [
      "WARNING:tensorflow:From C:\\Users\\tkvkh\\AppData\\Local\\Programs\\Python\\Python311\\Lib\\site-packages\\keras\\src\\backend.py:873: The name tf.get_default_graph is deprecated. Please use tf.compat.v1.get_default_graph instead.\n",
      "\n"
     ]
    },
    {
     "data": {
      "image/png": "[encoded data removed]",
      "text/plain": [
       "<IPython.core.display.Image object>"
      ]
     },
     "execution_count": 4,
     "metadata": {},
     "output_type": "execute_result"
    }
   ],
   "source": [
    "model = tf.keras.Sequential([\n",
    "    tf.keras.layers.Flatten(input_shape=x_train[0].shape),\n",
    "    tf.keras.layers.Dense(64, activation='relu'),\n",
    "    tf.keras.layers.Dense(10),\n",
    "])\n",
    "\n",
    "tf.keras.utils.plot_model(model)"
   ]
  },
  {
   "cell_type": "markdown",
   "id": "0d8cda3c-bc8f-4b73-895f-8e40e13b369f",
   "metadata": {},
   "source": [
    "### Running the model\n",
    "\n",
    "#### Loss function, optimizer and metrics"
   ]
  },
  {
   "cell_type": "code",
   "execution_count": 5,
   "id": "a09527b6-7b93-4587-8128-c034897493b0",
   "metadata": {},
   "outputs": [],
   "source": [
    "loss_fn = tf.keras.losses.SparseCategoricalCrossentropy(from_logits=True)"
   ]
  },
  {
   "cell_type": "code",
   "execution_count": 6,
   "id": "c4a6de1f-089a-49aa-9cac-bbcc6f402408",
   "metadata": {},
   "outputs": [
    {
     "name": "stdout",
     "output_type": "stream",
     "text": [
      "WARNING:tensorflow:From C:\\Users\\tkvkh\\AppData\\Local\\Programs\\Python\\Python311\\Lib\\site-packages\\keras\\src\\optimizers\\__init__.py:309: The name tf.train.Optimizer is deprecated. Please use tf.compat.v1.train.Optimizer instead.\n",
      "\n"
     ]
    }
   ],
   "source": [
    "model.compile(optimizer='adam', loss=loss_fn, metrics=['accuracy'])"
   ]
  },
  {
   "cell_type": "markdown",
   "id": "e1b34440-18a1-4d87-9b4a-60a809b5af5e",
   "metadata": {},
   "source": [
    "#### Fit the model"
   ]
  },
  {
   "cell_type": "code",
   "execution_count": 7,
   "id": "4102943c-508a-478f-83b4-3471d7674ac0",
   "metadata": {},
   "outputs": [
    {
     "name": "stdout",
     "output_type": "stream",
     "text": [
      "Epoch 1/5\n",
      "WARNING:tensorflow:From C:\\Users\\tkvkh\\AppData\\Local\\Programs\\Python\\Python311\\Lib\\site-packages\\keras\\src\\utils\\tf_utils.py:492: The name tf.ragged.RaggedTensorValue is deprecated. Please use tf.compat.v1.ragged.RaggedTensorValue instead.\n",
      "\n",
      "WARNING:tensorflow:From C:\\Users\\tkvkh\\AppData\\Local\\Programs\\Python\\Python311\\Lib\\site-packages\\keras\\src\\engine\\base_layer_utils.py:384: The name tf.executing_eagerly_outside_functions is deprecated. Please use tf.compat.v1.executing_eagerly_outside_functions instead.\n",
      "\n",
      "1875/1875 [==============================] - 3s 1ms/step - loss: 0.3014 - accuracy: 0.9142\n",
      "Epoch 2/5\n",
      "1875/1875 [==============================] - 3s 1ms/step - loss: 0.1509 - accuracy: 0.9566\n",
      "Epoch 3/5\n",
      "1875/1875 [==============================] - 2s 1ms/step - loss: 0.1098 - accuracy: 0.9677\n",
      "Epoch 4/5\n",
      "1875/1875 [==============================] - 2s 1ms/step - loss: 0.0862 - accuracy: 0.9740\n",
      "Epoch 5/5\n",
      "1875/1875 [==============================] - 3s 1ms/step - loss: 0.0700 - accuracy: 0.9785\n"
     ]
    },
    {
     "data": {
      "text/plain": [
       "<keras.src.callbacks.History at 0x1d341f8a750>"
      ]
     },
     "execution_count": 7,
     "metadata": {},
     "output_type": "execute_result"
    }
   ],
   "source": [
    "model.fit(x_train, y_train, epochs=5)"
   ]
  },
  {
   "cell_type": "markdown",
   "id": "70b481e2-8d89-40c6-a44a-fd790a012a17",
   "metadata": {},
   "source": [
    "#### Evaluate the model"
   ]
  },
  {
   "cell_type": "code",
   "execution_count": 8,
   "id": "2f187cfb-326c-4a3e-89cf-7d5e3900e9b4",
   "metadata": {},
   "outputs": [
    {
     "name": "stdout",
     "output_type": "stream",
     "text": [
      "313/313 - 0s - loss: 0.0873 - accuracy: 0.9746 - 478ms/epoch - 2ms/step\n"
     ]
    },
    {
     "data": {
      "text/plain": [
       "[0.08727674931287766, 0.9746000170707703]"
      ]
     },
     "execution_count": 8,
     "metadata": {},
     "output_type": "execute_result"
    }
   ],
   "source": [
    "model.evaluate(x_test,  y_test, verbose=2)"
   ]
  },
  {
   "cell_type": "markdown",
   "id": "dbd26f64-f303-4b20-9a5f-842e4f8d295a",
   "metadata": {},
   "source": [
    "### Example and visualization of predictions"
   ]
  },
  {
   "cell_type": "code",
   "execution_count": null,
   "id": "5530ec67-489d-4736-953e-07769401d0af",
   "metadata": {},
   "outputs": [],
   "source": []
  }
 ],
 "metadata": {
  "kernelspec": {
   "display_name": "Python 3 (ipykernel)",
   "language": "python",
   "name": "python3"
  },
  "language_info": {
   "codemirror_mode": {
    "name": "ipython",
    "version": 3
   },
   "file_extension": ".py",
   "mimetype": "text/x-python",
   "name": "python",
   "nbconvert_exporter": "python",
   "pygments_lexer": "ipython3",
   "version": "3.11.7"
  }
 },
 "nbformat": 4,
 "nbformat_minor": 5
}
